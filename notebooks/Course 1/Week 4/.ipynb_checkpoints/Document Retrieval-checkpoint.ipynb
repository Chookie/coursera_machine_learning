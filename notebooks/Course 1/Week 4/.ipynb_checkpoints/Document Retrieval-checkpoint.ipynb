{
 "cells": [
  {
   "cell_type": "code",
   "execution_count": 1,
   "metadata": {
    "collapsed": true
   },
   "outputs": [],
   "source": [
    "import graphlab"
   ]
  },
  {
   "cell_type": "markdown",
   "metadata": {},
   "source": [
    "# Load some text data from wikipedia - pages on people"
   ]
  },
  {
   "cell_type": "code",
   "execution_count": 2,
   "metadata": {
    "collapsed": false
   },
   "outputs": [
    {
     "name": "stderr",
     "output_type": "stream",
     "text": [
      "2016-04-03 15:59:12,470 [INFO] graphlab.cython.cy_server, 176: GraphLab Create v1.8.5 started. Logging: /tmp/graphlab_server_1459695550.log\n"
     ]
    },
    {
     "name": "stdout",
     "output_type": "stream",
     "text": [
      "This non-commercial license of GraphLab Create is assigned to alison@johnston.name and will expire on March 22, 2017. For commercial licensing options, visit https://dato.com/buy/.\n"
     ]
    }
   ],
   "source": [
    "people = graphlab.SFrame('people_wiki.gl/')"
   ]
  },
  {
   "cell_type": "code",
   "execution_count": 3,
   "metadata": {
    "collapsed": false
   },
   "outputs": [
    {
     "data": {
      "text/html": [
       "<div style=\"max-height:1000px;max-width:1500px;overflow:auto;\"><table frame=\"box\" rules=\"cols\">\n",
       "    <tr>\n",
       "        <th style=\"padding-left: 1em; padding-right: 1em; text-align: center\">URI</th>\n",
       "        <th style=\"padding-left: 1em; padding-right: 1em; text-align: center\">name</th>\n",
       "        <th style=\"padding-left: 1em; padding-right: 1em; text-align: center\">text</th>\n",
       "    </tr>\n",
       "    <tr>\n",
       "        <td style=\"padding-left: 1em; padding-right: 1em; text-align: center; vertical-align: top\">&lt;http://dbpedia.org/resou<br>rce/Digby_Morrell&gt; ...</td>\n",
       "        <td style=\"padding-left: 1em; padding-right: 1em; text-align: center; vertical-align: top\">Digby Morrell</td>\n",
       "        <td style=\"padding-left: 1em; padding-right: 1em; text-align: center; vertical-align: top\">digby morrell born 10<br>october 1979 is a former ...</td>\n",
       "    </tr>\n",
       "    <tr>\n",
       "        <td style=\"padding-left: 1em; padding-right: 1em; text-align: center; vertical-align: top\">&lt;http://dbpedia.org/resou<br>rce/Alfred_J._Lewy&gt; ...</td>\n",
       "        <td style=\"padding-left: 1em; padding-right: 1em; text-align: center; vertical-align: top\">Alfred J. Lewy</td>\n",
       "        <td style=\"padding-left: 1em; padding-right: 1em; text-align: center; vertical-align: top\">alfred j lewy aka sandy<br>lewy graduated from ...</td>\n",
       "    </tr>\n",
       "    <tr>\n",
       "        <td style=\"padding-left: 1em; padding-right: 1em; text-align: center; vertical-align: top\">&lt;http://dbpedia.org/resou<br>rce/Harpdog_Brown&gt; ...</td>\n",
       "        <td style=\"padding-left: 1em; padding-right: 1em; text-align: center; vertical-align: top\">Harpdog Brown</td>\n",
       "        <td style=\"padding-left: 1em; padding-right: 1em; text-align: center; vertical-align: top\">harpdog brown is a singer<br>and harmonica player who ...</td>\n",
       "    </tr>\n",
       "    <tr>\n",
       "        <td style=\"padding-left: 1em; padding-right: 1em; text-align: center; vertical-align: top\">&lt;http://dbpedia.org/resou<br>rce/Franz_Rottensteiner&gt; ...</td>\n",
       "        <td style=\"padding-left: 1em; padding-right: 1em; text-align: center; vertical-align: top\">Franz Rottensteiner</td>\n",
       "        <td style=\"padding-left: 1em; padding-right: 1em; text-align: center; vertical-align: top\">franz rottensteiner born<br>in waidmannsfeld lower ...</td>\n",
       "    </tr>\n",
       "    <tr>\n",
       "        <td style=\"padding-left: 1em; padding-right: 1em; text-align: center; vertical-align: top\">&lt;http://dbpedia.org/resou<br>rce/G-Enka&gt; ...</td>\n",
       "        <td style=\"padding-left: 1em; padding-right: 1em; text-align: center; vertical-align: top\">G-Enka</td>\n",
       "        <td style=\"padding-left: 1em; padding-right: 1em; text-align: center; vertical-align: top\">henry krvits born 30<br>december 1974 in tallinn ...</td>\n",
       "    </tr>\n",
       "    <tr>\n",
       "        <td style=\"padding-left: 1em; padding-right: 1em; text-align: center; vertical-align: top\">&lt;http://dbpedia.org/resou<br>rce/Sam_Henderson&gt; ...</td>\n",
       "        <td style=\"padding-left: 1em; padding-right: 1em; text-align: center; vertical-align: top\">Sam Henderson</td>\n",
       "        <td style=\"padding-left: 1em; padding-right: 1em; text-align: center; vertical-align: top\">sam henderson born<br>october 18 1969 is an ...</td>\n",
       "    </tr>\n",
       "    <tr>\n",
       "        <td style=\"padding-left: 1em; padding-right: 1em; text-align: center; vertical-align: top\">&lt;http://dbpedia.org/resou<br>rce/Aaron_LaCrate&gt; ...</td>\n",
       "        <td style=\"padding-left: 1em; padding-right: 1em; text-align: center; vertical-align: top\">Aaron LaCrate</td>\n",
       "        <td style=\"padding-left: 1em; padding-right: 1em; text-align: center; vertical-align: top\">aaron lacrate is an<br>american music producer ...</td>\n",
       "    </tr>\n",
       "    <tr>\n",
       "        <td style=\"padding-left: 1em; padding-right: 1em; text-align: center; vertical-align: top\">&lt;http://dbpedia.org/resou<br>rce/Trevor_Ferguson&gt; ...</td>\n",
       "        <td style=\"padding-left: 1em; padding-right: 1em; text-align: center; vertical-align: top\">Trevor Ferguson</td>\n",
       "        <td style=\"padding-left: 1em; padding-right: 1em; text-align: center; vertical-align: top\">trevor ferguson aka john<br>farrow born 11 november ...</td>\n",
       "    </tr>\n",
       "    <tr>\n",
       "        <td style=\"padding-left: 1em; padding-right: 1em; text-align: center; vertical-align: top\">&lt;http://dbpedia.org/resou<br>rce/Grant_Nelson&gt; ...</td>\n",
       "        <td style=\"padding-left: 1em; padding-right: 1em; text-align: center; vertical-align: top\">Grant Nelson</td>\n",
       "        <td style=\"padding-left: 1em; padding-right: 1em; text-align: center; vertical-align: top\">grant nelson born 27<br>april 1971 in london  ...</td>\n",
       "    </tr>\n",
       "    <tr>\n",
       "        <td style=\"padding-left: 1em; padding-right: 1em; text-align: center; vertical-align: top\">&lt;http://dbpedia.org/resou<br>rce/Cathy_Caruth&gt; ...</td>\n",
       "        <td style=\"padding-left: 1em; padding-right: 1em; text-align: center; vertical-align: top\">Cathy Caruth</td>\n",
       "        <td style=\"padding-left: 1em; padding-right: 1em; text-align: center; vertical-align: top\">cathy caruth born 1955 is<br>frank h t rhodes ...</td>\n",
       "    </tr>\n",
       "</table>\n",
       "[10 rows x 3 columns]<br/>\n",
       "</div>"
      ],
      "text/plain": [
       "Columns:\n",
       "\tURI\tstr\n",
       "\tname\tstr\n",
       "\ttext\tstr\n",
       "\n",
       "Rows: 10\n",
       "\n",
       "Data:\n",
       "+-------------------------------+---------------------+\n",
       "|              URI              |         name        |\n",
       "+-------------------------------+---------------------+\n",
       "| <http://dbpedia.org/resour... |    Digby Morrell    |\n",
       "| <http://dbpedia.org/resour... |    Alfred J. Lewy   |\n",
       "| <http://dbpedia.org/resour... |    Harpdog Brown    |\n",
       "| <http://dbpedia.org/resour... | Franz Rottensteiner |\n",
       "| <http://dbpedia.org/resour... |        G-Enka       |\n",
       "| <http://dbpedia.org/resour... |    Sam Henderson    |\n",
       "| <http://dbpedia.org/resour... |    Aaron LaCrate    |\n",
       "| <http://dbpedia.org/resour... |   Trevor Ferguson   |\n",
       "| <http://dbpedia.org/resour... |     Grant Nelson    |\n",
       "| <http://dbpedia.org/resour... |     Cathy Caruth    |\n",
       "+-------------------------------+---------------------+\n",
       "+-------------------------------+\n",
       "|              text             |\n",
       "+-------------------------------+\n",
       "| digby morrell born 10 octo... |\n",
       "| alfred j lewy aka sandy le... |\n",
       "| harpdog brown is a singer ... |\n",
       "| franz rottensteiner born i... |\n",
       "| henry krvits born 30 decem... |\n",
       "| sam henderson born october... |\n",
       "| aaron lacrate is an americ... |\n",
       "| trevor ferguson aka john f... |\n",
       "| grant nelson born 27 april... |\n",
       "| cathy caruth born 1955 is ... |\n",
       "+-------------------------------+\n",
       "[10 rows x 3 columns]"
      ]
     },
     "execution_count": 3,
     "metadata": {},
     "output_type": "execute_result"
    }
   ],
   "source": [
    "people.head()"
   ]
  },
  {
   "cell_type": "code",
   "execution_count": 4,
   "metadata": {
    "collapsed": false
   },
   "outputs": [
    {
     "data": {
      "text/plain": [
       "59071"
      ]
     },
     "execution_count": 4,
     "metadata": {},
     "output_type": "execute_result"
    }
   ],
   "source": [
    "len(people)"
   ]
  },
  {
   "cell_type": "markdown",
   "metadata": {},
   "source": [
    "# Explore the dataset and checkout the text it contains"
   ]
  },
  {
   "cell_type": "code",
   "execution_count": 6,
   "metadata": {
    "collapsed": false
   },
   "outputs": [],
   "source": [
    "obama = people[people['name'] == 'Barack Obama']"
   ]
  },
  {
   "cell_type": "code",
   "execution_count": 7,
   "metadata": {
    "collapsed": false
   },
   "outputs": [
    {
     "data": {
      "text/html": [
       "<div style=\"max-height:1000px;max-width:1500px;overflow:auto;\"><table frame=\"box\" rules=\"cols\">\n",
       "    <tr>\n",
       "        <th style=\"padding-left: 1em; padding-right: 1em; text-align: center\">URI</th>\n",
       "        <th style=\"padding-left: 1em; padding-right: 1em; text-align: center\">name</th>\n",
       "        <th style=\"padding-left: 1em; padding-right: 1em; text-align: center\">text</th>\n",
       "    </tr>\n",
       "    <tr>\n",
       "        <td style=\"padding-left: 1em; padding-right: 1em; text-align: center; vertical-align: top\">&lt;http://dbpedia.org/resou<br>rce/Barack_Obama&gt; ...</td>\n",
       "        <td style=\"padding-left: 1em; padding-right: 1em; text-align: center; vertical-align: top\">Barack Obama</td>\n",
       "        <td style=\"padding-left: 1em; padding-right: 1em; text-align: center; vertical-align: top\">barack hussein obama ii<br>brk husen bm born august ...</td>\n",
       "    </tr>\n",
       "</table>\n",
       "[? rows x 3 columns]<br/>Note: Only the head of the SFrame is printed. This SFrame is lazily evaluated.<br/>You can use len(sf) to force materialization.\n",
       "</div>"
      ],
      "text/plain": [
       "Columns:\n",
       "\tURI\tstr\n",
       "\tname\tstr\n",
       "\ttext\tstr\n",
       "\n",
       "Rows: Unknown\n",
       "\n",
       "Data:\n",
       "+-------------------------------+--------------+-------------------------------+\n",
       "|              URI              |     name     |              text             |\n",
       "+-------------------------------+--------------+-------------------------------+\n",
       "| <http://dbpedia.org/resour... | Barack Obama | barack hussein obama ii br... |\n",
       "+-------------------------------+--------------+-------------------------------+\n",
       "[? rows x 3 columns]\n",
       "Note: Only the head of the SFrame is printed. This SFrame is lazily evaluated.\n",
       "You can use len(sf) to force materialization."
      ]
     },
     "execution_count": 7,
     "metadata": {},
     "output_type": "execute_result"
    }
   ],
   "source": [
    "obama"
   ]
  },
  {
   "cell_type": "code",
   "execution_count": 8,
   "metadata": {
    "collapsed": false
   },
   "outputs": [
    {
     "data": {
      "text/plain": [
       "dtype: str\n",
       "Rows: ?\n",
       "['barack hussein obama ii brk husen bm born august 4 1961 is the 44th and current president of the united states and the first african american to hold the office born in honolulu hawaii obama is a graduate of columbia university and harvard law school where he served as president of the harvard law review he was a community organizer in chicago before earning his law degree he worked as a civil rights attorney and taught constitutional law at the university of chicago law school from 1992 to 2004 he served three terms representing the 13th district in the illinois senate from 1997 to 2004 running unsuccessfully for the united states house of representatives in 2000in 2004 obama received national attention during his campaign to represent illinois in the united states senate with his victory in the march democratic party primary his keynote address at the democratic national convention in july and his election to the senate in november he began his presidential campaign in 2007 and after a close primary campaign against hillary rodham clinton in 2008 he won sufficient delegates in the democratic party primaries to receive the presidential nomination he then defeated republican nominee john mccain in the general election and was inaugurated as president on january 20 2009 nine months after his election obama was named the 2009 nobel peace prize laureateduring his first two years in office obama signed into law economic stimulus legislation in response to the great recession in the form of the american recovery and reinvestment act of 2009 and the tax relief unemployment insurance reauthorization and job creation act of 2010 other major domestic initiatives in his first term included the patient protection and affordable care act often referred to as obamacare the doddfrank wall street reform and consumer protection act and the dont ask dont tell repeal act of 2010 in foreign policy obama ended us military involvement in the iraq war increased us troop levels in afghanistan signed the new start arms control treaty with russia ordered us military involvement in libya and ordered the military operation that resulted in the death of osama bin laden in january 2011 the republicans regained control of the house of representatives as the democratic party lost a total of 63 seats and after a lengthy debate over federal spending and whether or not to raise the nations debt limit obama signed the budget control act of 2011 and the american taxpayer relief act of 2012obama was reelected president in november 2012 defeating republican nominee mitt romney and was sworn in for a second term on january 20 2013 during his second term obama has promoted domestic policies related to gun control in response to the sandy hook elementary school shooting and has called for full equality for lgbt americans while his administration has filed briefs which urged the supreme court to strike down the defense of marriage act of 1996 and californias proposition 8 as unconstitutional in foreign policy obama ordered us military involvement in iraq in response to gains made by the islamic state in iraq after the 2011 withdrawal from iraq continued the process of ending us combat operations in afghanistan and has sought to normalize us relations with cuba', ... ]"
      ]
     },
     "execution_count": 8,
     "metadata": {},
     "output_type": "execute_result"
    }
   ],
   "source": [
    "obama['text']"
   ]
  },
  {
   "cell_type": "code",
   "execution_count": 13,
   "metadata": {
    "collapsed": false
   },
   "outputs": [],
   "source": [
    "clooney = people[people['name'] == 'George Clooney']"
   ]
  },
  {
   "cell_type": "code",
   "execution_count": 14,
   "metadata": {
    "collapsed": false
   },
   "outputs": [
    {
     "data": {
      "text/plain": [
       "dtype: str\n",
       "Rows: ?\n",
       "['george timothy clooney born may 6 1961 is an american actor writer producer director and activist he has received three golden globe awards for his work as an actor and two academy awards one for acting and the other for producingclooney made his acting debut on television in 1978 and later gained wide recognition in his role as dr doug ross on the longrunning medical drama er from 1994 to 1999 for which he received two emmy award nominations while working on er he began attracting a variety of leading roles in films including the superhero film batman robin 1997 and the crime comedy out of sight 1998 in which he first worked with a director who would become a longtime collaborator steven soderbergh in 1999 clooney took the lead role in three kings a wellreceived war satire set during the gulf warin 2001 clooneys fame widened with the release of his biggest commercial success the heist comedy oceans eleven the first of the film trilogy a remake of the 1960 film with frank sinatra as danny ocean he made his directorial debut a year later with the biographical thriller confessions of a dangerous mind and has since directed the drama good night and good luck 2005 the sports comedy leatherheads 2008 the political drama the ides of march 2011 and the comedydrama war film the monuments men 2014he won an academy award for best supporting actor for the middle east thriller syriana 2005 and subsequently earned best actor nominations for the legal thriller michael clayton 2007 the comedydrama up in the air 2009 and the drama the descendants 2011 in 2013 he received the academy award for best picture for producing the political thriller argo alongside ben affleck and grant heslov he is the only person ever to be nominated for academy awards in six categoriesclooney is sometimes described as one of the most handsome men in the world in 2005 tv guide ranked clooney no 1 on its 50 sexiest stars of all time list in 2009 he was included in times annual time 100 as one of the most influential people in the world clooney is also noted for his political activism and has served as one of the united nations messengers of peace since january 31 2008 his humanitarian work includes his advocacy of finding a resolution for the darfur conflict raising funds for the 2010 haiti earthquake 2004 tsunami and 911 victims and creating documentaries such as sand and sorrow to raise awareness about international crises he is also a member of the council on foreign relations', ... ]"
      ]
     },
     "execution_count": 14,
     "metadata": {},
     "output_type": "execute_result"
    }
   ],
   "source": [
    "clooney['text']"
   ]
  },
  {
   "cell_type": "markdown",
   "metadata": {},
   "source": [
    "# Get the word count for Obama article"
   ]
  },
  {
   "cell_type": "markdown",
   "metadata": {},
   "source": [
    "Could write a word counter ourselves as per previous but use the one in the graphab toolbox.\n",
    "\n",
    "Counting unigrams (single words)"
   ]
  },
  {
   "cell_type": "code",
   "execution_count": 15,
   "metadata": {
    "collapsed": true
   },
   "outputs": [],
   "source": [
    "obama['word_count'] = graphlab.text_analytics.count_words(obama['text'])"
   ]
  },
  {
   "cell_type": "code",
   "execution_count": 18,
   "metadata": {
    "collapsed": false
   },
   "outputs": [
    {
     "name": "stdout",
     "output_type": "stream",
     "text": [
      "[{'operations': 1, 'represent': 1, 'office': 2, 'unemployment': 1, 'is': 2, 'doddfrank': 1, 'over': 1, 'unconstitutional': 1, 'domestic': 2, 'named': 1, 'ending': 1, 'ended': 1, 'proposition': 1, 'seats': 1, 'graduate': 1, 'worked': 1, 'before': 1, 'death': 1, '20': 2, 'taxpayer': 1, 'inaugurated': 1, 'obamacare': 1, 'civil': 1, 'mccain': 1, 'to': 14, '4': 1, 'policy': 2, '8': 1, 'has': 4, '2011': 3, '2010': 2, '2013': 1, '2012': 1, 'bin': 1, 'then': 1, 'his': 11, 'march': 1, 'gains': 1, 'cuba': 1, 'californias': 1, '1992': 1, 'new': 1, 'not': 1, 'during': 2, 'years': 1, 'continued': 1, 'presidential': 2, 'husen': 1, 'osama': 1, 'term': 3, 'equality': 1, 'prize': 1, 'lost': 1, 'stimulus': 1, 'january': 3, 'university': 2, 'rights': 1, 'gun': 1, 'republican': 2, 'rodham': 1, 'troop': 1, 'withdrawal': 1, 'involvement': 3, 'response': 3, 'where': 1, 'referred': 1, 'affordable': 1, 'attorney': 1, 'school': 3, 'senate': 3, 'house': 2, 'national': 2, 'creation': 1, 'related': 1, 'hawaii': 1, 'born': 2, 'second': 2, 'street': 1, 'election': 3, 'close': 1, 'operation': 1, 'insurance': 1, 'sandy': 1, 'afghanistan': 2, 'initiatives': 1, 'for': 4, 'reform': 1, 'federal': 1, 'review': 1, 'representatives': 2, 'debate': 1, 'current': 1, 'state': 1, 'won': 1, 'marriage': 1, 'victory': 1, 'unsuccessfully': 1, 'reauthorization': 1, 'keynote': 1, 'full': 1, 'patient': 1, 'august': 1, 'degree': 1, '44th': 1, 'bm': 1, 'mitt': 1, 'attention': 1, 'delegates': 1, 'lgbt': 1, 'job': 1, 'protection': 2, 'address': 1, 'ask': 1, 'november': 2, 'debt': 1, 'by': 1, 'care': 1, 'on': 2, 'great': 1, 'defense': 1, 'signed': 3, 'libya': 1, 'receive': 1, 'of': 18, 'months': 1, 'against': 1, 'foreign': 2, 'spending': 1, 'american': 3, 'harvard': 2, 'act': 8, 'military': 4, 'hussein': 1, 'or': 1, 'first': 3, 'and': 21, 'major': 1, 'clinton': 1, '1997': 1, 'campaign': 3, 'russia': 1, 'wall': 1, 'legislation': 1, 'into': 1, 'primary': 2, 'community': 1, 'three': 1, 'down': 1, 'hook': 1, 'ii': 1, '63': 1, 'americans': 1, 'elementary': 1, 'total': 1, 'earning': 1, 'often': 1, 'barack': 1, 'law': 6, 'from': 3, 'raise': 1, 'district': 1, 'representing': 1, 'nine': 1, 'reinvestment': 1, 'arms': 1, 'relations': 1, 'nobel': 1, 'start': 1, 'dont': 2, 'tell': 1, 'iraq': 4, 'convention': 1, 'strike': 1, 'served': 2, 'john': 1, 'was': 5, 'war': 1, 'form': 1, 'that': 1, 'tax': 1, 'sufficient': 1, 'republicans': 1, 'resulted': 1, 'hillary': 1, 'taught': 1, 'honolulu': 1, 'filed': 1, 'regained': 1, 'july': 1, 'hold': 1, 'with': 3, 'he': 7, '13th': 1, 'made': 1, 'brk': 1, '1996': 1, 'whether': 1, 'reelected': 1, 'budget': 1, 'us': 6, 'nations': 1, 'recession': 1, 'while': 1, 'economic': 1, 'limit': 1, 'policies': 1, 'promoted': 1, 'called': 1, 'at': 2, 'control': 4, 'supreme': 1, 'ordered': 3, 'nominee': 2, 'process': 1, '2000in': 1, '2012obama': 1, 'received': 1, 'romney': 1, 'briefs': 1, 'defeated': 1, 'general': 1, 'states': 3, 'as': 6, 'urged': 1, 'in': 30, 'sought': 1, 'organizer': 1, 'shooting': 1, 'increased': 1, 'normalize': 1, 'lengthy': 1, 'united': 3, 'court': 1, 'recovery': 1, 'laden': 1, 'laureateduring': 1, 'peace': 1, 'administration': 1, '1961': 1, 'illinois': 2, 'other': 1, 'which': 1, 'party': 3, 'primaries': 1, 'sworn': 1, '2007': 1, 'obama': 9, 'columbia': 1, 'combat': 1, 'after': 4, 'islamic': 1, 'running': 1, 'levels': 1, 'two': 1, 'included': 1, 'president': 4, 'repeal': 1, 'nomination': 1, 'the': 40, 'a': 7, '2009': 3, 'chicago': 2, 'constitutional': 1, 'defeating': 1, 'treaty': 1, 'relief': 2, '2004': 3, 'african': 1, '2008': 1, 'democratic': 4, 'consumer': 1, 'began': 1, 'terms': 1}]\n"
     ]
    }
   ],
   "source": [
    "print obama['word_count']"
   ]
  },
  {
   "cell_type": "markdown",
   "metadata": {},
   "source": [
    "## Sort the word counts for the Obama article"
   ]
  },
  {
   "cell_type": "markdown",
   "metadata": {},
   "source": [
    "word_oount is a dictionary.  To sort convert dictionary to table."
   ]
  },
  {
   "cell_type": "markdown",
   "metadata": {},
   "source": [
    "#### Stack: takes 1 column with dictionary and converts to 2 columns, one for the word and the other for the count\n",
    "\n",
    "[[ ]] is so we only get the one column from the table"
   ]
  },
  {
   "cell_type": "code",
   "execution_count": 23,
   "metadata": {
    "collapsed": false
   },
   "outputs": [],
   "source": [
    "obama_word_count_table = obama[['word_count']].stack('word_count', new_column_name=['word','count'])"
   ]
  },
  {
   "cell_type": "code",
   "execution_count": 29,
   "metadata": {
    "collapsed": false
   },
   "outputs": [
    {
     "data": {
      "text/html": [
       "<div style=\"max-height:1000px;max-width:1500px;overflow:auto;\"><table frame=\"box\" rules=\"cols\">\n",
       "    <tr>\n",
       "        <th style=\"padding-left: 1em; padding-right: 1em; text-align: center\">word</th>\n",
       "        <th style=\"padding-left: 1em; padding-right: 1em; text-align: center\">count</th>\n",
       "    </tr>\n",
       "    <tr>\n",
       "        <td style=\"padding-left: 1em; padding-right: 1em; text-align: center; vertical-align: top\">cuba</td>\n",
       "        <td style=\"padding-left: 1em; padding-right: 1em; text-align: center; vertical-align: top\">1</td>\n",
       "    </tr>\n",
       "    <tr>\n",
       "        <td style=\"padding-left: 1em; padding-right: 1em; text-align: center; vertical-align: top\">relations</td>\n",
       "        <td style=\"padding-left: 1em; padding-right: 1em; text-align: center; vertical-align: top\">1</td>\n",
       "    </tr>\n",
       "    <tr>\n",
       "        <td style=\"padding-left: 1em; padding-right: 1em; text-align: center; vertical-align: top\">sought</td>\n",
       "        <td style=\"padding-left: 1em; padding-right: 1em; text-align: center; vertical-align: top\">1</td>\n",
       "    </tr>\n",
       "    <tr>\n",
       "        <td style=\"padding-left: 1em; padding-right: 1em; text-align: center; vertical-align: top\">combat</td>\n",
       "        <td style=\"padding-left: 1em; padding-right: 1em; text-align: center; vertical-align: top\">1</td>\n",
       "    </tr>\n",
       "    <tr>\n",
       "        <td style=\"padding-left: 1em; padding-right: 1em; text-align: center; vertical-align: top\">ending</td>\n",
       "        <td style=\"padding-left: 1em; padding-right: 1em; text-align: center; vertical-align: top\">1</td>\n",
       "    </tr>\n",
       "    <tr>\n",
       "        <td style=\"padding-left: 1em; padding-right: 1em; text-align: center; vertical-align: top\">withdrawal</td>\n",
       "        <td style=\"padding-left: 1em; padding-right: 1em; text-align: center; vertical-align: top\">1</td>\n",
       "    </tr>\n",
       "    <tr>\n",
       "        <td style=\"padding-left: 1em; padding-right: 1em; text-align: center; vertical-align: top\">state</td>\n",
       "        <td style=\"padding-left: 1em; padding-right: 1em; text-align: center; vertical-align: top\">1</td>\n",
       "    </tr>\n",
       "    <tr>\n",
       "        <td style=\"padding-left: 1em; padding-right: 1em; text-align: center; vertical-align: top\">islamic</td>\n",
       "        <td style=\"padding-left: 1em; padding-right: 1em; text-align: center; vertical-align: top\">1</td>\n",
       "    </tr>\n",
       "    <tr>\n",
       "        <td style=\"padding-left: 1em; padding-right: 1em; text-align: center; vertical-align: top\">by</td>\n",
       "        <td style=\"padding-left: 1em; padding-right: 1em; text-align: center; vertical-align: top\">1</td>\n",
       "    </tr>\n",
       "    <tr>\n",
       "        <td style=\"padding-left: 1em; padding-right: 1em; text-align: center; vertical-align: top\">gains</td>\n",
       "        <td style=\"padding-left: 1em; padding-right: 1em; text-align: center; vertical-align: top\">1</td>\n",
       "    </tr>\n",
       "</table>\n",
       "[10 rows x 2 columns]<br/>\n",
       "</div>"
      ],
      "text/plain": [
       "Columns:\n",
       "\tword\tstr\n",
       "\tcount\tint\n",
       "\n",
       "Rows: 10\n",
       "\n",
       "Data:\n",
       "+------------+-------+\n",
       "|    word    | count |\n",
       "+------------+-------+\n",
       "|    cuba    |   1   |\n",
       "| relations  |   1   |\n",
       "|   sought   |   1   |\n",
       "|   combat   |   1   |\n",
       "|   ending   |   1   |\n",
       "| withdrawal |   1   |\n",
       "|   state    |   1   |\n",
       "|  islamic   |   1   |\n",
       "|     by     |   1   |\n",
       "|   gains    |   1   |\n",
       "+------------+-------+\n",
       "[10 rows x 2 columns]"
      ]
     },
     "execution_count": 29,
     "metadata": {},
     "output_type": "execute_result"
    }
   ],
   "source": [
    "obama_word_count_table.head()"
   ]
  },
  {
   "cell_type": "code",
   "execution_count": 31,
   "metadata": {
    "collapsed": false
   },
   "outputs": [
    {
     "data": {
      "text/html": [
       "<div style=\"max-height:1000px;max-width:1500px;overflow:auto;\"><table frame=\"box\" rules=\"cols\">\n",
       "    <tr>\n",
       "        <th style=\"padding-left: 1em; padding-right: 1em; text-align: center\">word</th>\n",
       "        <th style=\"padding-left: 1em; padding-right: 1em; text-align: center\">count</th>\n",
       "    </tr>\n",
       "    <tr>\n",
       "        <td style=\"padding-left: 1em; padding-right: 1em; text-align: center; vertical-align: top\">the</td>\n",
       "        <td style=\"padding-left: 1em; padding-right: 1em; text-align: center; vertical-align: top\">40</td>\n",
       "    </tr>\n",
       "    <tr>\n",
       "        <td style=\"padding-left: 1em; padding-right: 1em; text-align: center; vertical-align: top\">in</td>\n",
       "        <td style=\"padding-left: 1em; padding-right: 1em; text-align: center; vertical-align: top\">30</td>\n",
       "    </tr>\n",
       "    <tr>\n",
       "        <td style=\"padding-left: 1em; padding-right: 1em; text-align: center; vertical-align: top\">and</td>\n",
       "        <td style=\"padding-left: 1em; padding-right: 1em; text-align: center; vertical-align: top\">21</td>\n",
       "    </tr>\n",
       "    <tr>\n",
       "        <td style=\"padding-left: 1em; padding-right: 1em; text-align: center; vertical-align: top\">of</td>\n",
       "        <td style=\"padding-left: 1em; padding-right: 1em; text-align: center; vertical-align: top\">18</td>\n",
       "    </tr>\n",
       "    <tr>\n",
       "        <td style=\"padding-left: 1em; padding-right: 1em; text-align: center; vertical-align: top\">to</td>\n",
       "        <td style=\"padding-left: 1em; padding-right: 1em; text-align: center; vertical-align: top\">14</td>\n",
       "    </tr>\n",
       "    <tr>\n",
       "        <td style=\"padding-left: 1em; padding-right: 1em; text-align: center; vertical-align: top\">his</td>\n",
       "        <td style=\"padding-left: 1em; padding-right: 1em; text-align: center; vertical-align: top\">11</td>\n",
       "    </tr>\n",
       "    <tr>\n",
       "        <td style=\"padding-left: 1em; padding-right: 1em; text-align: center; vertical-align: top\">obama</td>\n",
       "        <td style=\"padding-left: 1em; padding-right: 1em; text-align: center; vertical-align: top\">9</td>\n",
       "    </tr>\n",
       "    <tr>\n",
       "        <td style=\"padding-left: 1em; padding-right: 1em; text-align: center; vertical-align: top\">act</td>\n",
       "        <td style=\"padding-left: 1em; padding-right: 1em; text-align: center; vertical-align: top\">8</td>\n",
       "    </tr>\n",
       "    <tr>\n",
       "        <td style=\"padding-left: 1em; padding-right: 1em; text-align: center; vertical-align: top\">he</td>\n",
       "        <td style=\"padding-left: 1em; padding-right: 1em; text-align: center; vertical-align: top\">7</td>\n",
       "    </tr>\n",
       "    <tr>\n",
       "        <td style=\"padding-left: 1em; padding-right: 1em; text-align: center; vertical-align: top\">a</td>\n",
       "        <td style=\"padding-left: 1em; padding-right: 1em; text-align: center; vertical-align: top\">7</td>\n",
       "    </tr>\n",
       "</table>\n",
       "[273 rows x 2 columns]<br/>Note: Only the head of the SFrame is printed.<br/>You can use print_rows(num_rows=m, num_columns=n) to print more rows and columns.\n",
       "</div>"
      ],
      "text/plain": [
       "Columns:\n",
       "\tword\tstr\n",
       "\tcount\tint\n",
       "\n",
       "Rows: 273\n",
       "\n",
       "Data:\n",
       "+-------+-------+\n",
       "|  word | count |\n",
       "+-------+-------+\n",
       "|  the  |   40  |\n",
       "|   in  |   30  |\n",
       "|  and  |   21  |\n",
       "|   of  |   18  |\n",
       "|   to  |   14  |\n",
       "|  his  |   11  |\n",
       "| obama |   9   |\n",
       "|  act  |   8   |\n",
       "|   he  |   7   |\n",
       "|   a   |   7   |\n",
       "+-------+-------+\n",
       "[273 rows x 2 columns]\n",
       "Note: Only the head of the SFrame is printed.\n",
       "You can use print_rows(num_rows=m, num_columns=n) to print more rows and columns."
      ]
     },
     "execution_count": 31,
     "metadata": {},
     "output_type": "execute_result"
    }
   ],
   "source": [
    "obama_word_count_table.sort('count', ascending=False)"
   ]
  },
  {
   "cell_type": "markdown",
   "metadata": {},
   "source": [
    "## Compute TF-IDF for the corpus"
   ]
  },
  {
   "cell_type": "markdown",
   "metadata": {},
   "source": [
    "1) First calc word count for all records"
   ]
  },
  {
   "cell_type": "code",
   "execution_count": 32,
   "metadata": {
    "collapsed": true
   },
   "outputs": [],
   "source": [
    "people['word_count'] = graphlab.text_analytics.count_words(people['text'])"
   ]
  },
  {
   "cell_type": "code",
   "execution_count": 33,
   "metadata": {
    "collapsed": false
   },
   "outputs": [
    {
     "data": {
      "text/html": [
       "<div style=\"max-height:1000px;max-width:1500px;overflow:auto;\"><table frame=\"box\" rules=\"cols\">\n",
       "    <tr>\n",
       "        <th style=\"padding-left: 1em; padding-right: 1em; text-align: center\">URI</th>\n",
       "        <th style=\"padding-left: 1em; padding-right: 1em; text-align: center\">name</th>\n",
       "        <th style=\"padding-left: 1em; padding-right: 1em; text-align: center\">text</th>\n",
       "        <th style=\"padding-left: 1em; padding-right: 1em; text-align: center\">word_count</th>\n",
       "    </tr>\n",
       "    <tr>\n",
       "        <td style=\"padding-left: 1em; padding-right: 1em; text-align: center; vertical-align: top\">&lt;http://dbpedia.org/resou<br>rce/Digby_Morrell&gt; ...</td>\n",
       "        <td style=\"padding-left: 1em; padding-right: 1em; text-align: center; vertical-align: top\">Digby Morrell</td>\n",
       "        <td style=\"padding-left: 1em; padding-right: 1em; text-align: center; vertical-align: top\">digby morrell born 10<br>october 1979 is a former ...</td>\n",
       "        <td style=\"padding-left: 1em; padding-right: 1em; text-align: center; vertical-align: top\">{'selection': 1,<br>'carltons': 1, 'being': ...</td>\n",
       "    </tr>\n",
       "    <tr>\n",
       "        <td style=\"padding-left: 1em; padding-right: 1em; text-align: center; vertical-align: top\">&lt;http://dbpedia.org/resou<br>rce/Alfred_J._Lewy&gt; ...</td>\n",
       "        <td style=\"padding-left: 1em; padding-right: 1em; text-align: center; vertical-align: top\">Alfred J. Lewy</td>\n",
       "        <td style=\"padding-left: 1em; padding-right: 1em; text-align: center; vertical-align: top\">alfred j lewy aka sandy<br>lewy graduated from ...</td>\n",
       "        <td style=\"padding-left: 1em; padding-right: 1em; text-align: center; vertical-align: top\">{'precise': 1, 'thomas':<br>1, 'closely': 1, ...</td>\n",
       "    </tr>\n",
       "    <tr>\n",
       "        <td style=\"padding-left: 1em; padding-right: 1em; text-align: center; vertical-align: top\">&lt;http://dbpedia.org/resou<br>rce/Harpdog_Brown&gt; ...</td>\n",
       "        <td style=\"padding-left: 1em; padding-right: 1em; text-align: center; vertical-align: top\">Harpdog Brown</td>\n",
       "        <td style=\"padding-left: 1em; padding-right: 1em; text-align: center; vertical-align: top\">harpdog brown is a singer<br>and harmonica player who ...</td>\n",
       "        <td style=\"padding-left: 1em; padding-right: 1em; text-align: center; vertical-align: top\">{'just': 1, 'issued': 1,<br>'mainly': 1, 'nominat ...</td>\n",
       "    </tr>\n",
       "    <tr>\n",
       "        <td style=\"padding-left: 1em; padding-right: 1em; text-align: center; vertical-align: top\">&lt;http://dbpedia.org/resou<br>rce/Franz_Rottensteiner&gt; ...</td>\n",
       "        <td style=\"padding-left: 1em; padding-right: 1em; text-align: center; vertical-align: top\">Franz Rottensteiner</td>\n",
       "        <td style=\"padding-left: 1em; padding-right: 1em; text-align: center; vertical-align: top\">franz rottensteiner born<br>in waidmannsfeld lower ...</td>\n",
       "        <td style=\"padding-left: 1em; padding-right: 1em; text-align: center; vertical-align: top\">{'all': 1,<br>'bauforschung': 1, ...</td>\n",
       "    </tr>\n",
       "    <tr>\n",
       "        <td style=\"padding-left: 1em; padding-right: 1em; text-align: center; vertical-align: top\">&lt;http://dbpedia.org/resou<br>rce/G-Enka&gt; ...</td>\n",
       "        <td style=\"padding-left: 1em; padding-right: 1em; text-align: center; vertical-align: top\">G-Enka</td>\n",
       "        <td style=\"padding-left: 1em; padding-right: 1em; text-align: center; vertical-align: top\">henry krvits born 30<br>december 1974 in tallinn ...</td>\n",
       "        <td style=\"padding-left: 1em; padding-right: 1em; text-align: center; vertical-align: top\">{'they': 1,<br>'gangstergenka': 1, ...</td>\n",
       "    </tr>\n",
       "    <tr>\n",
       "        <td style=\"padding-left: 1em; padding-right: 1em; text-align: center; vertical-align: top\">&lt;http://dbpedia.org/resou<br>rce/Sam_Henderson&gt; ...</td>\n",
       "        <td style=\"padding-left: 1em; padding-right: 1em; text-align: center; vertical-align: top\">Sam Henderson</td>\n",
       "        <td style=\"padding-left: 1em; padding-right: 1em; text-align: center; vertical-align: top\">sam henderson born<br>october 18 1969 is an ...</td>\n",
       "        <td style=\"padding-left: 1em; padding-right: 1em; text-align: center; vertical-align: top\">{'currently': 1, 'less':<br>1, 'being': 1, ...</td>\n",
       "    </tr>\n",
       "    <tr>\n",
       "        <td style=\"padding-left: 1em; padding-right: 1em; text-align: center; vertical-align: top\">&lt;http://dbpedia.org/resou<br>rce/Aaron_LaCrate&gt; ...</td>\n",
       "        <td style=\"padding-left: 1em; padding-right: 1em; text-align: center; vertical-align: top\">Aaron LaCrate</td>\n",
       "        <td style=\"padding-left: 1em; padding-right: 1em; text-align: center; vertical-align: top\">aaron lacrate is an<br>american music producer ...</td>\n",
       "        <td style=\"padding-left: 1em; padding-right: 1em; text-align: center; vertical-align: top\">{'exclusive': 2,<br>'producer': 1, 'show' ...</td>\n",
       "    </tr>\n",
       "    <tr>\n",
       "        <td style=\"padding-left: 1em; padding-right: 1em; text-align: center; vertical-align: top\">&lt;http://dbpedia.org/resou<br>rce/Trevor_Ferguson&gt; ...</td>\n",
       "        <td style=\"padding-left: 1em; padding-right: 1em; text-align: center; vertical-align: top\">Trevor Ferguson</td>\n",
       "        <td style=\"padding-left: 1em; padding-right: 1em; text-align: center; vertical-align: top\">trevor ferguson aka john<br>farrow born 11 november ...</td>\n",
       "        <td style=\"padding-left: 1em; padding-right: 1em; text-align: center; vertical-align: top\">{'taxi': 1, 'salon': 1,<br>'gangs': 1, 'being': 1, ...</td>\n",
       "    </tr>\n",
       "    <tr>\n",
       "        <td style=\"padding-left: 1em; padding-right: 1em; text-align: center; vertical-align: top\">&lt;http://dbpedia.org/resou<br>rce/Grant_Nelson&gt; ...</td>\n",
       "        <td style=\"padding-left: 1em; padding-right: 1em; text-align: center; vertical-align: top\">Grant Nelson</td>\n",
       "        <td style=\"padding-left: 1em; padding-right: 1em; text-align: center; vertical-align: top\">grant nelson born 27<br>april 1971 in london  ...</td>\n",
       "        <td style=\"padding-left: 1em; padding-right: 1em; text-align: center; vertical-align: top\">{'houston': 1, 'frankie':<br>1, 'labels': 1, ...</td>\n",
       "    </tr>\n",
       "    <tr>\n",
       "        <td style=\"padding-left: 1em; padding-right: 1em; text-align: center; vertical-align: top\">&lt;http://dbpedia.org/resou<br>rce/Cathy_Caruth&gt; ...</td>\n",
       "        <td style=\"padding-left: 1em; padding-right: 1em; text-align: center; vertical-align: top\">Cathy Caruth</td>\n",
       "        <td style=\"padding-left: 1em; padding-right: 1em; text-align: center; vertical-align: top\">cathy caruth born 1955 is<br>frank h t rhodes ...</td>\n",
       "        <td style=\"padding-left: 1em; padding-right: 1em; text-align: center; vertical-align: top\">{'phenomenon': 1,<br>'deborash': 1, 'both' ...</td>\n",
       "    </tr>\n",
       "</table>\n",
       "[10 rows x 4 columns]<br/>\n",
       "</div>"
      ],
      "text/plain": [
       "Columns:\n",
       "\tURI\tstr\n",
       "\tname\tstr\n",
       "\ttext\tstr\n",
       "\tword_count\tdict\n",
       "\n",
       "Rows: 10\n",
       "\n",
       "Data:\n",
       "+-------------------------------+---------------------+\n",
       "|              URI              |         name        |\n",
       "+-------------------------------+---------------------+\n",
       "| <http://dbpedia.org/resour... |    Digby Morrell    |\n",
       "| <http://dbpedia.org/resour... |    Alfred J. Lewy   |\n",
       "| <http://dbpedia.org/resour... |    Harpdog Brown    |\n",
       "| <http://dbpedia.org/resour... | Franz Rottensteiner |\n",
       "| <http://dbpedia.org/resour... |        G-Enka       |\n",
       "| <http://dbpedia.org/resour... |    Sam Henderson    |\n",
       "| <http://dbpedia.org/resour... |    Aaron LaCrate    |\n",
       "| <http://dbpedia.org/resour... |   Trevor Ferguson   |\n",
       "| <http://dbpedia.org/resour... |     Grant Nelson    |\n",
       "| <http://dbpedia.org/resour... |     Cathy Caruth    |\n",
       "+-------------------------------+---------------------+\n",
       "+-------------------------------+-------------------------------+\n",
       "|              text             |           word_count          |\n",
       "+-------------------------------+-------------------------------+\n",
       "| digby morrell born 10 octo... | {'selection': 1, 'carltons... |\n",
       "| alfred j lewy aka sandy le... | {'precise': 1, 'thomas': 1... |\n",
       "| harpdog brown is a singer ... | {'just': 1, 'issued': 1, '... |\n",
       "| franz rottensteiner born i... | {'all': 1, 'bauforschung':... |\n",
       "| henry krvits born 30 decem... | {'they': 1, 'gangstergenka... |\n",
       "| sam henderson born october... | {'currently': 1, 'less': 1... |\n",
       "| aaron lacrate is an americ... | {'exclusive': 2, 'producer... |\n",
       "| trevor ferguson aka john f... | {'taxi': 1, 'salon': 1, 'g... |\n",
       "| grant nelson born 27 april... | {'houston': 1, 'frankie': ... |\n",
       "| cathy caruth born 1955 is ... | {'phenomenon': 1, 'deboras... |\n",
       "+-------------------------------+-------------------------------+\n",
       "[10 rows x 4 columns]"
      ]
     },
     "execution_count": 33,
     "metadata": {},
     "output_type": "execute_result"
    }
   ],
   "source": [
    "people.head()"
   ]
  },
  {
   "cell_type": "markdown",
   "metadata": {},
   "source": [
    "2) Calc tfidf"
   ]
  },
  {
   "cell_type": "code",
   "execution_count": 41,
   "metadata": {
    "collapsed": false
   },
   "outputs": [],
   "source": [
    "tfidf = graphlab.text_analytics.tf_idf(people['word_count'])"
   ]
  },
  {
   "cell_type": "markdown",
   "metadata": {},
   "source": [
    "Add the idf column to the people table"
   ]
  },
  {
   "cell_type": "code",
   "execution_count": 39,
   "metadata": {
    "collapsed": false
   },
   "outputs": [],
   "source": [
    "people['tfidf'] = tfidf"
   ]
  },
  {
   "cell_type": "markdown",
   "metadata": {},
   "source": [
    "TFIDF Column is a table within each row"
   ]
  },
  {
   "cell_type": "markdown",
   "metadata": {},
   "source": [
    "## Examine the TFIDF for the obama article"
   ]
  },
  {
   "cell_type": "markdown",
   "metadata": {},
   "source": [
    "Recreate the Obama variable so it has the latest data"
   ]
  },
  {
   "cell_type": "code",
   "execution_count": 49,
   "metadata": {
    "collapsed": false
   },
   "outputs": [],
   "source": [
    "obama = people[people['name'] == 'Barack Obama']"
   ]
  },
  {
   "cell_type": "markdown",
   "metadata": {},
   "source": [
    "Now going to stack and sort in one line"
   ]
  },
  {
   "cell_type": "code",
   "execution_count": 50,
   "metadata": {
    "collapsed": false
   },
   "outputs": [
    {
     "data": {
      "text/html": [
       "<div style=\"max-height:1000px;max-width:1500px;overflow:auto;\"><table frame=\"box\" rules=\"cols\">\n",
       "    <tr>\n",
       "        <th style=\"padding-left: 1em; padding-right: 1em; text-align: center\">word</th>\n",
       "        <th style=\"padding-left: 1em; padding-right: 1em; text-align: center\">tfidf</th>\n",
       "    </tr>\n",
       "    <tr>\n",
       "        <td style=\"padding-left: 1em; padding-right: 1em; text-align: center; vertical-align: top\">obama</td>\n",
       "        <td style=\"padding-left: 1em; padding-right: 1em; text-align: center; vertical-align: top\">43.2956530721</td>\n",
       "    </tr>\n",
       "    <tr>\n",
       "        <td style=\"padding-left: 1em; padding-right: 1em; text-align: center; vertical-align: top\">act</td>\n",
       "        <td style=\"padding-left: 1em; padding-right: 1em; text-align: center; vertical-align: top\">27.678222623</td>\n",
       "    </tr>\n",
       "    <tr>\n",
       "        <td style=\"padding-left: 1em; padding-right: 1em; text-align: center; vertical-align: top\">iraq</td>\n",
       "        <td style=\"padding-left: 1em; padding-right: 1em; text-align: center; vertical-align: top\">17.747378588</td>\n",
       "    </tr>\n",
       "    <tr>\n",
       "        <td style=\"padding-left: 1em; padding-right: 1em; text-align: center; vertical-align: top\">control</td>\n",
       "        <td style=\"padding-left: 1em; padding-right: 1em; text-align: center; vertical-align: top\">14.8870608452</td>\n",
       "    </tr>\n",
       "    <tr>\n",
       "        <td style=\"padding-left: 1em; padding-right: 1em; text-align: center; vertical-align: top\">law</td>\n",
       "        <td style=\"padding-left: 1em; padding-right: 1em; text-align: center; vertical-align: top\">14.7229357618</td>\n",
       "    </tr>\n",
       "    <tr>\n",
       "        <td style=\"padding-left: 1em; padding-right: 1em; text-align: center; vertical-align: top\">ordered</td>\n",
       "        <td style=\"padding-left: 1em; padding-right: 1em; text-align: center; vertical-align: top\">14.5333739509</td>\n",
       "    </tr>\n",
       "    <tr>\n",
       "        <td style=\"padding-left: 1em; padding-right: 1em; text-align: center; vertical-align: top\">military</td>\n",
       "        <td style=\"padding-left: 1em; padding-right: 1em; text-align: center; vertical-align: top\">13.1159327785</td>\n",
       "    </tr>\n",
       "    <tr>\n",
       "        <td style=\"padding-left: 1em; padding-right: 1em; text-align: center; vertical-align: top\">involvement</td>\n",
       "        <td style=\"padding-left: 1em; padding-right: 1em; text-align: center; vertical-align: top\">12.7843852412</td>\n",
       "    </tr>\n",
       "    <tr>\n",
       "        <td style=\"padding-left: 1em; padding-right: 1em; text-align: center; vertical-align: top\">response</td>\n",
       "        <td style=\"padding-left: 1em; padding-right: 1em; text-align: center; vertical-align: top\">12.7843852412</td>\n",
       "    </tr>\n",
       "    <tr>\n",
       "        <td style=\"padding-left: 1em; padding-right: 1em; text-align: center; vertical-align: top\">democratic</td>\n",
       "        <td style=\"padding-left: 1em; padding-right: 1em; text-align: center; vertical-align: top\">12.4106886973</td>\n",
       "    </tr>\n",
       "</table>\n",
       "[273 rows x 2 columns]<br/>Note: Only the head of the SFrame is printed.<br/>You can use print_rows(num_rows=m, num_columns=n) to print more rows and columns.\n",
       "</div>"
      ],
      "text/plain": [
       "Columns:\n",
       "\tword\tstr\n",
       "\ttfidf\tfloat\n",
       "\n",
       "Rows: 273\n",
       "\n",
       "Data:\n",
       "+-------------+---------------+\n",
       "|     word    |     tfidf     |\n",
       "+-------------+---------------+\n",
       "|    obama    | 43.2956530721 |\n",
       "|     act     |  27.678222623 |\n",
       "|     iraq    |  17.747378588 |\n",
       "|   control   | 14.8870608452 |\n",
       "|     law     | 14.7229357618 |\n",
       "|   ordered   | 14.5333739509 |\n",
       "|   military  | 13.1159327785 |\n",
       "| involvement | 12.7843852412 |\n",
       "|   response  | 12.7843852412 |\n",
       "|  democratic | 12.4106886973 |\n",
       "+-------------+---------------+\n",
       "[273 rows x 2 columns]\n",
       "Note: Only the head of the SFrame is printed.\n",
       "You can use print_rows(num_rows=m, num_columns=n) to print more rows and columns."
      ]
     },
     "execution_count": 50,
     "metadata": {},
     "output_type": "execute_result"
    }
   ],
   "source": [
    "obama[['tfidf']].stack('tfidf', new_column_name=['word','tfidf']).sort('tfidf', ascending=False)"
   ]
  },
  {
   "cell_type": "markdown",
   "metadata": {},
   "source": [
    "# Manually compute the distances between a few people\n",
    "\n",
    "Goal is to show what distances look like so we get an idea of what we get from tfidf"
   ]
  },
  {
   "cell_type": "code",
   "execution_count": 51,
   "metadata": {
    "collapsed": true
   },
   "outputs": [],
   "source": [
    "clinton = people[people['name'] == 'Bill Clinton']"
   ]
  },
  {
   "cell_type": "code",
   "execution_count": 53,
   "metadata": {
    "collapsed": false
   },
   "outputs": [],
   "source": [
    "beckham = people[people['name'] == 'David Beckham']"
   ]
  },
  {
   "cell_type": "markdown",
   "metadata": {},
   "source": [
    "## Is Obama closer to Clinton then to Beckham"
   ]
  },
  {
   "cell_type": "markdown",
   "metadata": {},
   "source": [
    "The lower the cosine distance, the closer the articles are"
   ]
  },
  {
   "cell_type": "code",
   "execution_count": 55,
   "metadata": {
    "collapsed": false
   },
   "outputs": [
    {
     "data": {
      "text/plain": [
       "{'URI': '<http://dbpedia.org/resource/Barack_Obama>',\n",
       " 'name': 'Barack Obama',\n",
       " 'text': 'barack hussein obama ii brk husen bm born august 4 1961 is the 44th and current president of the united states and the first african american to hold the office born in honolulu hawaii obama is a graduate of columbia university and harvard law school where he served as president of the harvard law review he was a community organizer in chicago before earning his law degree he worked as a civil rights attorney and taught constitutional law at the university of chicago law school from 1992 to 2004 he served three terms representing the 13th district in the illinois senate from 1997 to 2004 running unsuccessfully for the united states house of representatives in 2000in 2004 obama received national attention during his campaign to represent illinois in the united states senate with his victory in the march democratic party primary his keynote address at the democratic national convention in july and his election to the senate in november he began his presidential campaign in 2007 and after a close primary campaign against hillary rodham clinton in 2008 he won sufficient delegates in the democratic party primaries to receive the presidential nomination he then defeated republican nominee john mccain in the general election and was inaugurated as president on january 20 2009 nine months after his election obama was named the 2009 nobel peace prize laureateduring his first two years in office obama signed into law economic stimulus legislation in response to the great recession in the form of the american recovery and reinvestment act of 2009 and the tax relief unemployment insurance reauthorization and job creation act of 2010 other major domestic initiatives in his first term included the patient protection and affordable care act often referred to as obamacare the doddfrank wall street reform and consumer protection act and the dont ask dont tell repeal act of 2010 in foreign policy obama ended us military involvement in the iraq war increased us troop levels in afghanistan signed the new start arms control treaty with russia ordered us military involvement in libya and ordered the military operation that resulted in the death of osama bin laden in january 2011 the republicans regained control of the house of representatives as the democratic party lost a total of 63 seats and after a lengthy debate over federal spending and whether or not to raise the nations debt limit obama signed the budget control act of 2011 and the american taxpayer relief act of 2012obama was reelected president in november 2012 defeating republican nominee mitt romney and was sworn in for a second term on january 20 2013 during his second term obama has promoted domestic policies related to gun control in response to the sandy hook elementary school shooting and has called for full equality for lgbt americans while his administration has filed briefs which urged the supreme court to strike down the defense of marriage act of 1996 and californias proposition 8 as unconstitutional in foreign policy obama ordered us military involvement in iraq in response to gains made by the islamic state in iraq after the 2011 withdrawal from iraq continued the process of ending us combat operations in afghanistan and has sought to normalize us relations with cuba',\n",
       " 'tfidf': {'13th': 4.9534091674263925,\n",
       "  '1961': 3.3207419573634955,\n",
       "  '1992': 2.278351314316948,\n",
       "  '1996': 2.135691193468776,\n",
       "  '1997': 2.1298344522079455,\n",
       "  '20': 4.88376320446593,\n",
       "  '2000in': 6.250296940830698,\n",
       "  '2004': 5.071033082507702,\n",
       "  '2007': 1.4879730697555795,\n",
       "  '2008': 1.5093391374786154,\n",
       "  '2009': 4.693309450812809,\n",
       "  '2010': 3.185667920243947,\n",
       "  '2011': 5.107041270312875,\n",
       "  '2012': 1.7938099524877322,\n",
       "  '2012obama': 10.986495389225194,\n",
       "  '2013': 1.9545642372230505,\n",
       "  '4': 2.437803530749586,\n",
       "  '44th': 7.0744723837970485,\n",
       "  '63': 5.22130428644035,\n",
       "  '8': 2.7572509724892824,\n",
       "  'a': 0.039334291308082026,\n",
       "  'act': 27.67822262297991,\n",
       "  'address': 4.8023464982877115,\n",
       "  'administration': 3.2952952917023315,\n",
       "  'affordable': 6.134465125305577,\n",
       "  'afghanistan': 9.4197037997671,\n",
       "  'african': 3.582216271187926,\n",
       "  'after': 3.7773337680052257,\n",
       "  'against': 2.0079609791418744,\n",
       "  'american': 3.3821333532750204,\n",
       "  'americans': 4.761936959949835,\n",
       "  'and': 0.01564802185902329,\n",
       "  'arms': 5.030658019760364,\n",
       "  'as': 0.7630171320744707,\n",
       "  'ask': 5.510031837293684,\n",
       "  'at': 0.43063857330825733,\n",
       "  'attention': 3.4269358932174945,\n",
       "  'attorney': 3.6593720969659014,\n",
       "  'august': 2.000173951599175,\n",
       "  'barack': 5.067601534952048,\n",
       "  'before': 1.4967823726683713,\n",
       "  'began': 1.727460095710253,\n",
       "  'bin': 5.6158573610975315,\n",
       "  'bm': 7.202305755306933,\n",
       "  'born': 0.53639254752953,\n",
       "  'briefs': 7.460134864609033,\n",
       "  'brk': 10.293348208665249,\n",
       "  'budget': 4.523465932304524,\n",
       "  'by': 0.37455341206197373,\n",
       "  'californias': 5.923900356198227,\n",
       "  'called': 2.0784770664403074,\n",
       "  'campaign': 9.077468342511231,\n",
       "  'care': 3.916621260766622,\n",
       "  'chicago': 5.858235801334405,\n",
       "  'civil': 3.3244978303233013,\n",
       "  'clinton': 4.542364132524754,\n",
       "  'close': 3.5416621153330006,\n",
       "  'columbia': 3.232442750189437,\n",
       "  'combat': 4.932056042955824,\n",
       "  'community': 2.693196030513871,\n",
       "  'constitutional': 4.529725733653031,\n",
       "  'consumer': 4.7540473726746715,\n",
       "  'continued': 2.720588055069447,\n",
       "  'control': 14.887060845181308,\n",
       "  'convention': 4.417013968810898,\n",
       "  'court': 2.896399606044235,\n",
       "  'creation': 4.03568062078261,\n",
       "  'cuba': 5.005081177970713,\n",
       "  'current': 2.8308461188591933,\n",
       "  'death': 3.1568650000750016,\n",
       "  'debate': 4.783959872037272,\n",
       "  'debt': 5.6158573610975315,\n",
       "  'defeated': 3.4068165661347387,\n",
       "  'defeating': 4.285764279677384,\n",
       "  'defense': 3.794313330511949,\n",
       "  'degree': 2.0206498944742566,\n",
       "  'delegates': 6.142308302766603,\n",
       "  'democratic': 12.410688697332166,\n",
       "  'district': 2.774469584601757,\n",
       "  'doddfrank': 9.887883100557085,\n",
       "  'domestic': 8.967410686619141,\n",
       "  'dont': 8.28123102792229,\n",
       "  'down': 2.9476606314374463,\n",
       "  'during': 2.634930295807099,\n",
       "  'earning': 3.857197840295821,\n",
       "  'economic': 3.2704801225826072,\n",
       "  'election': 7.712676160711769,\n",
       "  'elementary': 4.96062941539988,\n",
       "  'ended': 3.3430124821479934,\n",
       "  'ending': 4.547145018125096,\n",
       "  'equality': 5.341048491581956,\n",
       "  'federal': 3.0888272384982884,\n",
       "  'filed': 4.70797396505935,\n",
       "  'first': 2.0868146141979307,\n",
       "  'for': 0.29145011737314763,\n",
       "  'foreign': 6.3816977057812005,\n",
       "  'form': 3.233730580373866,\n",
       "  'from': 0.8812660139569034,\n",
       "  'full': 3.003055326218652,\n",
       "  'gains': 6.7238155121838785,\n",
       "  'general': 2.220724845237937,\n",
       "  'graduate': 2.6750971107885535,\n",
       "  'great': 2.7682474625394486,\n",
       "  'gun': 5.269467687818973,\n",
       "  'harvard': 6.634000276435001,\n",
       "  'has': 1.713990158976156,\n",
       "  'hawaii': 4.806478735572622,\n",
       "  'he': 1.493579903611068,\n",
       "  'hillary': 6.002888767516858,\n",
       "  'his': 2.8887260073502303,\n",
       "  'hold': 4.144879912747602,\n",
       "  'honolulu': 5.880549915324614,\n",
       "  'hook': 6.2951475069960505,\n",
       "  'house': 4.651096468328522,\n",
       "  'husen': 10.986495389225194,\n",
       "  'hussein': 6.126682984863522,\n",
       "  'ii': 3.3077063910260405,\n",
       "  'illinois': 7.480254618245467,\n",
       "  'in': 0.028962190503643476,\n",
       "  'inaugurated': 6.27696518791286,\n",
       "  'included': 2.4446095852185854,\n",
       "  'increased': 4.75012579902149,\n",
       "  'initiatives': 4.895185507147496,\n",
       "  'insurance': 4.594578275832593,\n",
       "  'into': 1.6050629424066056,\n",
       "  'involvement': 12.784385241175055,\n",
       "  'iraq': 17.747378587965535,\n",
       "  'is': 0.05523250095103998,\n",
       "  'islamic': 4.785986215182504,\n",
       "  'january': 5.656236009557883,\n",
       "  'job': 3.446936559924164,\n",
       "  'john': 1.9913303989140443,\n",
       "  'july': 1.9428000946579587,\n",
       "  'keynote': 5.433535804303577,\n",
       "  'laden': 6.709829270209139,\n",
       "  'laureateduring': 10.986495389225194,\n",
       "  'law': 14.722935761763422,\n",
       "  'legislation': 4.687546142369252,\n",
       "  'lengthy': 5.862531409821935,\n",
       "  'levels': 4.647901311022012,\n",
       "  'lgbt': 5.5883326877074415,\n",
       "  'libya': 6.332535039067671,\n",
       "  'limit': 5.355283607403829,\n",
       "  'lost': 2.731706463076469,\n",
       "  'made': 1.519886215502974,\n",
       "  'major': 2.0581201293715634,\n",
       "  'march': 1.9573172463231197,\n",
       "  'marriage': 4.115404094614648,\n",
       "  'mccain': 6.766987684049088,\n",
       "  'military': 13.115932778499415,\n",
       "  'mitt': 6.812108119329557,\n",
       "  'months': 3.0427126967665687,\n",
       "  'named': 2.0300155412252816,\n",
       "  'national': 2.3721863295447827,\n",
       "  'nations': 3.361876403065796,\n",
       "  'new': 0.8871532656125274,\n",
       "  'nine': 3.2624907325491286,\n",
       "  'nobel': 5.075698745184667,\n",
       "  'nomination': 3.7697859025157365,\n",
       "  'nominee': 9.43101391473379,\n",
       "  'normalize': 10.293348208665249,\n",
       "  'not': 1.5880170751336171,\n",
       "  'november': 3.9453132752336004,\n",
       "  'obama': 43.2956530720749,\n",
       "  'obamacare': 9.04058524016988,\n",
       "  'of': 0.07481117158400744,\n",
       "  'office': 5.2481728232196465,\n",
       "  'often': 2.862641126119281,\n",
       "  'on': 0.36882550670120073,\n",
       "  'operation': 4.3584540130456615,\n",
       "  'operations': 3.811771079388818,\n",
       "  'or': 1.9128915408224825,\n",
       "  'ordered': 14.533373950913514,\n",
       "  'organizer': 5.501698455734539,\n",
       "  'osama': 6.604468754551313,\n",
       "  'other': 1.4424007566948476,\n",
       "  'over': 1.4878231559557336,\n",
       "  'party': 7.0620334604226676,\n",
       "  'patient': 5.6393878585077255,\n",
       "  'peace': 3.7928095708300824,\n",
       "  'policies': 4.660345916070095,\n",
       "  'policy': 6.095386282141427,\n",
       "  'president': 7.226869291326606,\n",
       "  'presidential': 7.386955418904825,\n",
       "  'primaries': 6.669007275688884,\n",
       "  'primary': 6.710127449296579,\n",
       "  'prize': 2.7453192387302345,\n",
       "  'process': 3.7451291059028766,\n",
       "  'promoted': 3.5191243223076345,\n",
       "  'proposition': 6.926052378678775,\n",
       "  'protection': 8.698474715881474,\n",
       "  'raise': 4.67476058007228,\n",
       "  'reauthorization': 8.907053847545358,\n",
       "  'receive': 4.448355565457525,\n",
       "  'received': 1.5396609815666638,\n",
       "  'recession': 6.642689967371511,\n",
       "  'recovery': 5.103173000736915,\n",
       "  'reelected': 3.68265216394749,\n",
       "  'referred': 4.255477288743111,\n",
       "  'reform': 4.092839034622559,\n",
       "  'regained': 5.583818007352915,\n",
       "  'reinvestment': 8.421546031763658,\n",
       "  'related': 3.723866788250953,\n",
       "  'relations': 3.445873860568042,\n",
       "  'relief': 8.842460838379667,\n",
       "  'repeal': 7.297615935111258,\n",
       "  'represent': 4.184100625900883,\n",
       "  'representatives': 7.484535747243688,\n",
       "  'representing': 3.535253704237518,\n",
       "  'republican': 7.207497878972565,\n",
       "  'republicans': 5.592867842872833,\n",
       "  'response': 12.784385241175055,\n",
       "  'resulted': 4.015765311081669,\n",
       "  'review': 3.227734845067532,\n",
       "  'rights': 3.06677562830062,\n",
       "  'rodham': 7.690658523220865,\n",
       "  'romney': 6.843360662833661,\n",
       "  'running': 3.3516747114796512,\n",
       "  'russia': 4.025199343315028,\n",
       "  'sandy': 5.493433945884646,\n",
       "  'school': 3.6683618376520553,\n",
       "  'seats': 5.000043383940756,\n",
       "  'second': 3.344851662973069,\n",
       "  'senate': 10.164288179703693,\n",
       "  'served': 3.0725446998610506,\n",
       "  'shooting': 4.682046586803213,\n",
       "  'signed': 7.552957376250012,\n",
       "  'sought': 4.327201469541557,\n",
       "  'spending': 4.176352939110058,\n",
       "  'start': 3.281232914358869,\n",
       "  'state': 1.7090572737165175,\n",
       "  'states': 5.473200989631017,\n",
       "  'stimulus': 7.654290879049991,\n",
       "  'street': 3.250188292676909,\n",
       "  'strike': 5.025490049601921,\n",
       "  'sufficient': 6.432618497624653,\n",
       "  'supreme': 3.9140734886878232,\n",
       "  'sworn': 4.96062941539988,\n",
       "  'taught': 2.8485149347730556,\n",
       "  'tax': 4.545548848592274,\n",
       "  'taxpayer': 7.431147327735781,\n",
       "  'tell': 4.804410482508563,\n",
       "  'term': 9.319341564760851,\n",
       "  'terms': 3.8240978918694766,\n",
       "  'that': 0.6614069466714981,\n",
       "  'the': 0.004063113702956533,\n",
       "  'then': 1.4309354361561304,\n",
       "  'three': 1.4915025293575952,\n",
       "  'to': 0.6572291275451891,\n",
       "  'total': 3.2767385247710297,\n",
       "  'treaty': 5.89889905399281,\n",
       "  'troop': 7.248825770941826,\n",
       "  'two': 1.0988831858473562,\n",
       "  'unconstitutional': 6.8276123058655225,\n",
       "  'unemployment': 6.642689967371511,\n",
       "  'united': 4.703766236011668,\n",
       "  'university': 1.6946860096423695,\n",
       "  'unsuccessfully': 4.831637295208776,\n",
       "  'urged': 6.199003646443148,\n",
       "  'us': 11.591942692842837,\n",
       "  'victory': 3.384593429350028,\n",
       "  'wall': 4.021415043623787,\n",
       "  'war': 2.809822617276739,\n",
       "  'was': 0.3968289280609173,\n",
       "  'where': 1.089076212090673,\n",
       "  'whether': 4.744272123770029,\n",
       "  'which': 0.7674309670437692,\n",
       "  'while': 1.8364359481339414,\n",
       "  'with': 0.6074059275661821,\n",
       "  'withdrawal': 6.27696518791286,\n",
       "  'won': 1.3836400683164753,\n",
       "  'worked': 1.553891853362109,\n",
       "  'years': 1.0752380994247055},\n",
       " 'word_count': {'13th': 1,\n",
       "  '1961': 1,\n",
       "  '1992': 1,\n",
       "  '1996': 1,\n",
       "  '1997': 1,\n",
       "  '20': 2,\n",
       "  '2000in': 1,\n",
       "  '2004': 3,\n",
       "  '2007': 1,\n",
       "  '2008': 1,\n",
       "  '2009': 3,\n",
       "  '2010': 2,\n",
       "  '2011': 3,\n",
       "  '2012': 1,\n",
       "  '2012obama': 1,\n",
       "  '2013': 1,\n",
       "  '4': 1,\n",
       "  '44th': 1,\n",
       "  '63': 1,\n",
       "  '8': 1,\n",
       "  'a': 7,\n",
       "  'act': 8,\n",
       "  'address': 1,\n",
       "  'administration': 1,\n",
       "  'affordable': 1,\n",
       "  'afghanistan': 2,\n",
       "  'african': 1,\n",
       "  'after': 4,\n",
       "  'against': 1,\n",
       "  'american': 3,\n",
       "  'americans': 1,\n",
       "  'and': 21,\n",
       "  'arms': 1,\n",
       "  'as': 6,\n",
       "  'ask': 1,\n",
       "  'at': 2,\n",
       "  'attention': 1,\n",
       "  'attorney': 1,\n",
       "  'august': 1,\n",
       "  'barack': 1,\n",
       "  'before': 1,\n",
       "  'began': 1,\n",
       "  'bin': 1,\n",
       "  'bm': 1,\n",
       "  'born': 2,\n",
       "  'briefs': 1,\n",
       "  'brk': 1,\n",
       "  'budget': 1,\n",
       "  'by': 1,\n",
       "  'californias': 1,\n",
       "  'called': 1,\n",
       "  'campaign': 3,\n",
       "  'care': 1,\n",
       "  'chicago': 2,\n",
       "  'civil': 1,\n",
       "  'clinton': 1,\n",
       "  'close': 1,\n",
       "  'columbia': 1,\n",
       "  'combat': 1,\n",
       "  'community': 1,\n",
       "  'constitutional': 1,\n",
       "  'consumer': 1,\n",
       "  'continued': 1,\n",
       "  'control': 4,\n",
       "  'convention': 1,\n",
       "  'court': 1,\n",
       "  'creation': 1,\n",
       "  'cuba': 1,\n",
       "  'current': 1,\n",
       "  'death': 1,\n",
       "  'debate': 1,\n",
       "  'debt': 1,\n",
       "  'defeated': 1,\n",
       "  'defeating': 1,\n",
       "  'defense': 1,\n",
       "  'degree': 1,\n",
       "  'delegates': 1,\n",
       "  'democratic': 4,\n",
       "  'district': 1,\n",
       "  'doddfrank': 1,\n",
       "  'domestic': 2,\n",
       "  'dont': 2,\n",
       "  'down': 1,\n",
       "  'during': 2,\n",
       "  'earning': 1,\n",
       "  'economic': 1,\n",
       "  'election': 3,\n",
       "  'elementary': 1,\n",
       "  'ended': 1,\n",
       "  'ending': 1,\n",
       "  'equality': 1,\n",
       "  'federal': 1,\n",
       "  'filed': 1,\n",
       "  'first': 3,\n",
       "  'for': 4,\n",
       "  'foreign': 2,\n",
       "  'form': 1,\n",
       "  'from': 3,\n",
       "  'full': 1,\n",
       "  'gains': 1,\n",
       "  'general': 1,\n",
       "  'graduate': 1,\n",
       "  'great': 1,\n",
       "  'gun': 1,\n",
       "  'harvard': 2,\n",
       "  'has': 4,\n",
       "  'hawaii': 1,\n",
       "  'he': 7,\n",
       "  'hillary': 1,\n",
       "  'his': 11,\n",
       "  'hold': 1,\n",
       "  'honolulu': 1,\n",
       "  'hook': 1,\n",
       "  'house': 2,\n",
       "  'husen': 1,\n",
       "  'hussein': 1,\n",
       "  'ii': 1,\n",
       "  'illinois': 2,\n",
       "  'in': 30,\n",
       "  'inaugurated': 1,\n",
       "  'included': 1,\n",
       "  'increased': 1,\n",
       "  'initiatives': 1,\n",
       "  'insurance': 1,\n",
       "  'into': 1,\n",
       "  'involvement': 3,\n",
       "  'iraq': 4,\n",
       "  'is': 2,\n",
       "  'islamic': 1,\n",
       "  'january': 3,\n",
       "  'job': 1,\n",
       "  'john': 1,\n",
       "  'july': 1,\n",
       "  'keynote': 1,\n",
       "  'laden': 1,\n",
       "  'laureateduring': 1,\n",
       "  'law': 6,\n",
       "  'legislation': 1,\n",
       "  'lengthy': 1,\n",
       "  'levels': 1,\n",
       "  'lgbt': 1,\n",
       "  'libya': 1,\n",
       "  'limit': 1,\n",
       "  'lost': 1,\n",
       "  'made': 1,\n",
       "  'major': 1,\n",
       "  'march': 1,\n",
       "  'marriage': 1,\n",
       "  'mccain': 1,\n",
       "  'military': 4,\n",
       "  'mitt': 1,\n",
       "  'months': 1,\n",
       "  'named': 1,\n",
       "  'national': 2,\n",
       "  'nations': 1,\n",
       "  'new': 1,\n",
       "  'nine': 1,\n",
       "  'nobel': 1,\n",
       "  'nomination': 1,\n",
       "  'nominee': 2,\n",
       "  'normalize': 1,\n",
       "  'not': 1,\n",
       "  'november': 2,\n",
       "  'obama': 9,\n",
       "  'obamacare': 1,\n",
       "  'of': 18,\n",
       "  'office': 2,\n",
       "  'often': 1,\n",
       "  'on': 2,\n",
       "  'operation': 1,\n",
       "  'operations': 1,\n",
       "  'or': 1,\n",
       "  'ordered': 3,\n",
       "  'organizer': 1,\n",
       "  'osama': 1,\n",
       "  'other': 1,\n",
       "  'over': 1,\n",
       "  'party': 3,\n",
       "  'patient': 1,\n",
       "  'peace': 1,\n",
       "  'policies': 1,\n",
       "  'policy': 2,\n",
       "  'president': 4,\n",
       "  'presidential': 2,\n",
       "  'primaries': 1,\n",
       "  'primary': 2,\n",
       "  'prize': 1,\n",
       "  'process': 1,\n",
       "  'promoted': 1,\n",
       "  'proposition': 1,\n",
       "  'protection': 2,\n",
       "  'raise': 1,\n",
       "  'reauthorization': 1,\n",
       "  'receive': 1,\n",
       "  'received': 1,\n",
       "  'recession': 1,\n",
       "  'recovery': 1,\n",
       "  'reelected': 1,\n",
       "  'referred': 1,\n",
       "  'reform': 1,\n",
       "  'regained': 1,\n",
       "  'reinvestment': 1,\n",
       "  'related': 1,\n",
       "  'relations': 1,\n",
       "  'relief': 2,\n",
       "  'repeal': 1,\n",
       "  'represent': 1,\n",
       "  'representatives': 2,\n",
       "  'representing': 1,\n",
       "  'republican': 2,\n",
       "  'republicans': 1,\n",
       "  'response': 3,\n",
       "  'resulted': 1,\n",
       "  'review': 1,\n",
       "  'rights': 1,\n",
       "  'rodham': 1,\n",
       "  'romney': 1,\n",
       "  'running': 1,\n",
       "  'russia': 1,\n",
       "  'sandy': 1,\n",
       "  'school': 3,\n",
       "  'seats': 1,\n",
       "  'second': 2,\n",
       "  'senate': 3,\n",
       "  'served': 2,\n",
       "  'shooting': 1,\n",
       "  'signed': 3,\n",
       "  'sought': 1,\n",
       "  'spending': 1,\n",
       "  'start': 1,\n",
       "  'state': 1,\n",
       "  'states': 3,\n",
       "  'stimulus': 1,\n",
       "  'street': 1,\n",
       "  'strike': 1,\n",
       "  'sufficient': 1,\n",
       "  'supreme': 1,\n",
       "  'sworn': 1,\n",
       "  'taught': 1,\n",
       "  'tax': 1,\n",
       "  'taxpayer': 1,\n",
       "  'tell': 1,\n",
       "  'term': 3,\n",
       "  'terms': 1,\n",
       "  'that': 1,\n",
       "  'the': 40,\n",
       "  'then': 1,\n",
       "  'three': 1,\n",
       "  'to': 14,\n",
       "  'total': 1,\n",
       "  'treaty': 1,\n",
       "  'troop': 1,\n",
       "  'two': 1,\n",
       "  'unconstitutional': 1,\n",
       "  'unemployment': 1,\n",
       "  'united': 3,\n",
       "  'university': 2,\n",
       "  'unsuccessfully': 1,\n",
       "  'urged': 1,\n",
       "  'us': 6,\n",
       "  'victory': 1,\n",
       "  'wall': 1,\n",
       "  'war': 1,\n",
       "  'was': 5,\n",
       "  'where': 1,\n",
       "  'whether': 1,\n",
       "  'which': 1,\n",
       "  'while': 1,\n",
       "  'with': 3,\n",
       "  'withdrawal': 1,\n",
       "  'won': 1,\n",
       "  'worked': 1,\n",
       "  'years': 1}}"
      ]
     },
     "execution_count": 55,
     "metadata": {},
     "output_type": "execute_result"
    }
   ],
   "source": [
    "obama[0]"
   ]
  },
  {
   "cell_type": "markdown",
   "metadata": {},
   "source": [
    "Table only has one element but because is a table we need to specify the 0'th row, hence ['tfidf'][0]."
   ]
  },
  {
   "cell_type": "code",
   "execution_count": 56,
   "metadata": {
    "collapsed": false
   },
   "outputs": [
    {
     "data": {
      "text/plain": [
       "0.8339854936884276"
      ]
     },
     "execution_count": 56,
     "metadata": {},
     "output_type": "execute_result"
    }
   ],
   "source": [
    "graphlab.distances.cosine(obama['tfidf'][0],clinton['tfidf'][0])"
   ]
  },
  {
   "cell_type": "code",
   "execution_count": 57,
   "metadata": {
    "collapsed": false
   },
   "outputs": [
    {
     "data": {
      "text/plain": [
       "0.9791305844747478"
      ]
     },
     "execution_count": 57,
     "metadata": {},
     "output_type": "execute_result"
    }
   ],
   "source": [
    "graphlab.distances.cosine(obama['tfidf'][0],beckham['tfidf'][0])"
   ]
  },
  {
   "cell_type": "markdown",
   "metadata": {},
   "source": [
    "# Build nearest neighbour model for document retrieval"
   ]
  },
  {
   "cell_type": "markdown",
   "metadata": {},
   "source": [
    "Nearest neighbour is iterative.  Another approach covered later is not-iterative and uses clustering to group similar articles.\n",
    "\n",
    "label allows returning of a particular field of the nearest neighbour found"
   ]
  },
  {
   "cell_type": "code",
   "execution_count": 58,
   "metadata": {
    "collapsed": false
   },
   "outputs": [
    {
     "data": {
      "text/html": [
       "<pre>Starting brute force nearest neighbors model training.</pre>"
      ],
      "text/plain": [
       "Starting brute force nearest neighbors model training."
      ]
     },
     "metadata": {},
     "output_type": "display_data"
    }
   ],
   "source": [
    "knn_model = graphlab.nearest_neighbors.create(people, features=['tfidf'],label='name')"
   ]
  },
  {
   "cell_type": "markdown",
   "metadata": {},
   "source": [
    "Now use the model"
   ]
  },
  {
   "cell_type": "markdown",
   "metadata": {},
   "source": [
    "## Apply the nearest neighbour model for retrieval"
   ]
  },
  {
   "cell_type": "markdown",
   "metadata": {},
   "source": [
    "### Who is the closest to Obama"
   ]
  },
  {
   "cell_type": "code",
   "execution_count": 59,
   "metadata": {
    "collapsed": false
   },
   "outputs": [
    {
     "data": {
      "text/html": [
       "<pre>Starting pairwise querying.</pre>"
      ],
      "text/plain": [
       "Starting pairwise querying."
      ]
     },
     "metadata": {},
     "output_type": "display_data"
    },
    {
     "data": {
      "text/html": [
       "<pre>+--------------+---------+-------------+--------------+</pre>"
      ],
      "text/plain": [
       "+--------------+---------+-------------+--------------+"
      ]
     },
     "metadata": {},
     "output_type": "display_data"
    },
    {
     "data": {
      "text/html": [
       "<pre>| Query points | # Pairs | % Complete. | Elapsed Time |</pre>"
      ],
      "text/plain": [
       "| Query points | # Pairs | % Complete. | Elapsed Time |"
      ]
     },
     "metadata": {},
     "output_type": "display_data"
    },
    {
     "data": {
      "text/html": [
       "<pre>+--------------+---------+-------------+--------------+</pre>"
      ],
      "text/plain": [
       "+--------------+---------+-------------+--------------+"
      ]
     },
     "metadata": {},
     "output_type": "display_data"
    },
    {
     "data": {
      "text/html": [
       "<pre>| 0            | 1       | 0.00169288  | 32.859ms     |</pre>"
      ],
      "text/plain": [
       "| 0            | 1       | 0.00169288  | 32.859ms     |"
      ]
     },
     "metadata": {},
     "output_type": "display_data"
    },
    {
     "data": {
      "text/html": [
       "<pre>| Done         |         | 100         | 620.326ms    |</pre>"
      ],
      "text/plain": [
       "| Done         |         | 100         | 620.326ms    |"
      ]
     },
     "metadata": {},
     "output_type": "display_data"
    },
    {
     "data": {
      "text/html": [
       "<pre>+--------------+---------+-------------+--------------+</pre>"
      ],
      "text/plain": [
       "+--------------+---------+-------------+--------------+"
      ]
     },
     "metadata": {},
     "output_type": "display_data"
    },
    {
     "data": {
      "text/html": [
       "<div style=\"max-height:1000px;max-width:1500px;overflow:auto;\"><table frame=\"box\" rules=\"cols\">\n",
       "    <tr>\n",
       "        <th style=\"padding-left: 1em; padding-right: 1em; text-align: center\">query_label</th>\n",
       "        <th style=\"padding-left: 1em; padding-right: 1em; text-align: center\">reference_label</th>\n",
       "        <th style=\"padding-left: 1em; padding-right: 1em; text-align: center\">distance</th>\n",
       "        <th style=\"padding-left: 1em; padding-right: 1em; text-align: center\">rank</th>\n",
       "    </tr>\n",
       "    <tr>\n",
       "        <td style=\"padding-left: 1em; padding-right: 1em; text-align: center; vertical-align: top\">0</td>\n",
       "        <td style=\"padding-left: 1em; padding-right: 1em; text-align: center; vertical-align: top\">Barack Obama</td>\n",
       "        <td style=\"padding-left: 1em; padding-right: 1em; text-align: center; vertical-align: top\">0.0</td>\n",
       "        <td style=\"padding-left: 1em; padding-right: 1em; text-align: center; vertical-align: top\">1</td>\n",
       "    </tr>\n",
       "    <tr>\n",
       "        <td style=\"padding-left: 1em; padding-right: 1em; text-align: center; vertical-align: top\">0</td>\n",
       "        <td style=\"padding-left: 1em; padding-right: 1em; text-align: center; vertical-align: top\">Joe Biden</td>\n",
       "        <td style=\"padding-left: 1em; padding-right: 1em; text-align: center; vertical-align: top\">0.794117647059</td>\n",
       "        <td style=\"padding-left: 1em; padding-right: 1em; text-align: center; vertical-align: top\">2</td>\n",
       "    </tr>\n",
       "    <tr>\n",
       "        <td style=\"padding-left: 1em; padding-right: 1em; text-align: center; vertical-align: top\">0</td>\n",
       "        <td style=\"padding-left: 1em; padding-right: 1em; text-align: center; vertical-align: top\">Joe Lieberman</td>\n",
       "        <td style=\"padding-left: 1em; padding-right: 1em; text-align: center; vertical-align: top\">0.794685990338</td>\n",
       "        <td style=\"padding-left: 1em; padding-right: 1em; text-align: center; vertical-align: top\">3</td>\n",
       "    </tr>\n",
       "    <tr>\n",
       "        <td style=\"padding-left: 1em; padding-right: 1em; text-align: center; vertical-align: top\">0</td>\n",
       "        <td style=\"padding-left: 1em; padding-right: 1em; text-align: center; vertical-align: top\">Kelly Ayotte</td>\n",
       "        <td style=\"padding-left: 1em; padding-right: 1em; text-align: center; vertical-align: top\">0.811989100817</td>\n",
       "        <td style=\"padding-left: 1em; padding-right: 1em; text-align: center; vertical-align: top\">4</td>\n",
       "    </tr>\n",
       "    <tr>\n",
       "        <td style=\"padding-left: 1em; padding-right: 1em; text-align: center; vertical-align: top\">0</td>\n",
       "        <td style=\"padding-left: 1em; padding-right: 1em; text-align: center; vertical-align: top\">Bill Clinton</td>\n",
       "        <td style=\"padding-left: 1em; padding-right: 1em; text-align: center; vertical-align: top\">0.813852813853</td>\n",
       "        <td style=\"padding-left: 1em; padding-right: 1em; text-align: center; vertical-align: top\">5</td>\n",
       "    </tr>\n",
       "</table>\n",
       "[5 rows x 4 columns]<br/>\n",
       "</div>"
      ],
      "text/plain": [
       "Columns:\n",
       "\tquery_label\tint\n",
       "\treference_label\tstr\n",
       "\tdistance\tfloat\n",
       "\trank\tint\n",
       "\n",
       "Rows: 5\n",
       "\n",
       "Data:\n",
       "+-------------+-----------------+----------------+------+\n",
       "| query_label | reference_label |    distance    | rank |\n",
       "+-------------+-----------------+----------------+------+\n",
       "|      0      |   Barack Obama  |      0.0       |  1   |\n",
       "|      0      |    Joe Biden    | 0.794117647059 |  2   |\n",
       "|      0      |  Joe Lieberman  | 0.794685990338 |  3   |\n",
       "|      0      |   Kelly Ayotte  | 0.811989100817 |  4   |\n",
       "|      0      |   Bill Clinton  | 0.813852813853 |  5   |\n",
       "+-------------+-----------------+----------------+------+\n",
       "[5 rows x 4 columns]"
      ]
     },
     "execution_count": 59,
     "metadata": {},
     "output_type": "execute_result"
    }
   ],
   "source": [
    "knn_model.query(obama)"
   ]
  },
  {
   "cell_type": "markdown",
   "metadata": {},
   "source": [
    "## Other examples of document retrieval"
   ]
  },
  {
   "cell_type": "code",
   "execution_count": 60,
   "metadata": {
    "collapsed": true
   },
   "outputs": [],
   "source": [
    "swift = people[people['name'] == 'Taylor Swift']"
   ]
  },
  {
   "cell_type": "code",
   "execution_count": null,
   "metadata": {
    "collapsed": true
   },
   "outputs": [],
   "source": [
    " "
   ]
  }
 ],
 "metadata": {
  "kernelspec": {
   "display_name": "Python 2",
   "language": "python",
   "name": "python2"
  },
  "language_info": {
   "codemirror_mode": {
    "name": "ipython",
    "version": 2
   },
   "file_extension": ".py",
   "mimetype": "text/x-python",
   "name": "python",
   "nbconvert_exporter": "python",
   "pygments_lexer": "ipython2",
   "version": "2.7.10"
  }
 },
 "nbformat": 4,
 "nbformat_minor": 0
}
